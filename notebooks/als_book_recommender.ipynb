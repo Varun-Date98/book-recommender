{
  "cells": [
    {
      "cell_type": "markdown",
      "metadata": {
        "id": "-fx-mwgjyUWo"
      },
      "source": [
        "## Book recommendation engine\n",
        "\n",
        "In this notebook I will build a book recommendation engine using `PySpark` and `ALS`. I will use the **GoodReads 10k** dataset to train the model. This dataset contains the following files:\n",
        "1. `book_tags.csv` - Contains data for user tagged genres for each book.\n",
        "2. `books.csv` - Contains book metadata like `title`, `author`, `ISBN` etc.\n",
        "3. `ratings.csv` - Contains implicit ratings for each book given by the users, used for training an explicit rating model.\n",
        "4. `tags.csv` - Contains all the `genres` and their corresponding `tag_id`\n",
        "5. `to_read.csv` - Lists books marked as *to read* by the users, used for training an implicit rating model.\n",
        "\n",
        "The dataset contains 10,000 books and around 53,400 users. I will train both explicit ratings and implicit ratings models, using ALS and compare their performance. The best model will be saved and used in the book recommendation app later on."
      ]
    },
    {
      "cell_type": "code",
      "execution_count": null,
      "metadata": {
        "id": "4KrVfFcLkD88"
      },
      "outputs": [],
      "source": [
        "# Importing required libraries\n",
        "\n",
        "import os\n",
        "import zipfile\n",
        "import numpy as np\n",
        "import pandas as pd\n",
        "import seaborn as sns\n",
        "import matplotlib.pyplot as plt\n",
        "\n",
        "import shutil\n",
        "from google.colab import files\n",
        "\n",
        "import pyspark.sql.types as T\n",
        "import pyspark.sql.functions as F\n",
        "from pyspark.sql import SparkSession\n",
        "from pyspark.sql.types import DoubleType\n",
        "from pyspark.ml.recommendation import ALS, ALSModel\n",
        "from pyspark.ml.tuning import ParamGridBuilder, CrossValidator\n",
        "from pyspark.ml.evaluation import RegressionEvaluator, RankingEvaluator"
      ]
    },
    {
      "cell_type": "code",
      "execution_count": null,
      "metadata": {
        "id": "014d0t-gXdNW"
      },
      "outputs": [],
      "source": [
        "spark = SparkSession.builder.appName(\"good_reads\").getOrCreate()"
      ]
    },
    {
      "cell_type": "code",
      "execution_count": null,
      "metadata": {
        "id": "RYWJTOAEzhUr"
      },
      "outputs": [],
      "source": [
        "# Loading the dataset into spark dataframes\n",
        "\n",
        "books_df = spark.read.csv(\"Books.csv\", header=True, inferSchema=True)\n",
        "ratings_df = spark.read.csv(\"Ratings.csv\", header=True, inferSchema=True)\n",
        "to_read_df = spark.read.csv(\"to_read.csv\", header=True, inferSchema=True)"
      ]
    },
    {
      "cell_type": "code",
      "execution_count": null,
      "metadata": {
        "id": "-QNIP2s8_RmY"
      },
      "outputs": [],
      "source": [
        "# Exploring ratings dataset\n",
        "\n",
        "r, c = ratings_df.count(), len(ratings_df.columns)\n",
        "ratings_df.show(5)\n",
        "print(f\"Shape of ratings: {r, c}\")\n",
        "print(f\"Number of unique books: {ratings_df.select('book_id').distinct().count()}\")\n",
        "print(f\"Number of unique users: {ratings_df.select('user_id').distinct().count()}\")\n",
        "print(f\"Average rating: {ratings_df.agg(F.avg('rating')).collect()[0][0]:.2f}\")"
      ]
    },
    {
      "cell_type": "code",
      "execution_count": null,
      "metadata": {
        "id": "ShXNb8q7_vr-"
      },
      "outputs": [],
      "source": [
        "# Let's see how many ratings for each book\n",
        "\n",
        "book_ratings = ratings_df.groupBy(\"book_id\").agg(F.count(\"rating\").alias(\"num_ratings\"))\n",
        "book_ratings_pd = book_ratings.toPandas()\n",
        "\n",
        "# Plotting\n",
        "plt.figure(figsize=(10, 6))\n",
        "sns.scatterplot(data=book_ratings_pd, x=\"book_id\", y=\"num_ratings\")\n",
        "plt.title(\"Number of Ratings for each Book\")\n",
        "plt.xlabel(\"Book ID\")\n",
        "plt.ylabel(\"Number of Ratings\")\n",
        "plt.show();"
      ]
    },
    {
      "cell_type": "markdown",
      "metadata": {
        "id": "tiDU6b_uE2P8"
      },
      "source": [
        "So most of the books in the dataset have substantial ratings with a few outliers that have less than 20 ratings. Let us explore the `to_read` dataframe."
      ]
    },
    {
      "cell_type": "code",
      "execution_count": null,
      "metadata": {
        "id": "rvBTf97UGHbb"
      },
      "outputs": [],
      "source": [
        "# Exploring to_read dataset\n",
        "\n",
        "r, c = to_read_df.count(), len(to_read_df.columns)\n",
        "to_read_df.show(5)\n",
        "n = to_read_df.groupBy(\"user_id\").agg(F.count(\"book_id\").alias(\"num_books_to_read\")) \\\n",
        "              .agg(F.avg(\"num_books_to_read\")).collect()[0][0]\n",
        "print(f\"Shape of ratings: {r, c}\")\n",
        "print(f\"Number of unique books: {to_read_df.select('book_id').distinct().count()}\")\n",
        "print(f\"Number of unique users: {to_read_df.select('user_id').distinct().count()}\")\n",
        "print(f\"On average each user has {n:.2f} books in their to read list.\")"
      ]
    },
    {
      "cell_type": "markdown",
      "metadata": {
        "id": "flcYe-9VH7tx"
      },
      "source": [
        "So we see that not every book is in users to read list. Also not every user has a to read list. Let us now head towards making the **explicit rating** recommendation model."
      ]
    },
    {
      "cell_type": "code",
      "execution_count": null,
      "metadata": {
        "id": "sXVLpeGkJMnA"
      },
      "outputs": [],
      "source": [
        "%%time\n",
        "\n",
        "ratings_train, ratings_test = ratings_df.randomSplit([0.8, 0.2])\n",
        "\n",
        "als = ALS(userCol=\"user_id\", itemCol=\"book_id\", ratingCol=\"rating\",\n",
        "          coldStartStrategy=\"drop\", nonnegative=True, rank=64,\n",
        "          regParam=0.08)\n",
        "\n",
        "evaluator = RegressionEvaluator(metricName=\"rmse\", labelCol=\"rating\", predictionCol=\"prediction\")\n",
        "\n",
        "model = als.fit(ratings_train)\n",
        "predictions = model.transform(ratings_test)\n",
        "rmse = evaluator.evaluate(predictions)\n",
        "print(f\"RMSE: {rmse:.4f}\")"
      ]
    },
    {
      "cell_type": "code",
      "execution_count": null,
      "metadata": {
        "id": "kUT5_LOPc1WP"
      },
      "outputs": [],
      "source": [
        "# Calculating Precision@K\n",
        "\n",
        "K = 5\n",
        "predictions = model.recommendForAllUsers(5)\n",
        "actual_user_books = ratings_test.groupBy(\"user_id\") \\\n",
        "                                .agg(F.collect_set(\"book_id\").alias(\"actual_books\"))\n",
        "actual_and_preds = actual_user_books.join(predictions, on=\"user_id\", how=\"inner\")"
      ]
    },
    {
      "cell_type": "code",
      "execution_count": null,
      "metadata": {
        "id": "Y9gX69D6DwSg"
      },
      "outputs": [],
      "source": [
        "def precision_at_k(actual, pred):\n",
        "    actual_set = set(actual)\n",
        "    pred_set = set([x.book_id for x in pred])\n",
        "\n",
        "    if not actual_set:\n",
        "        return 0.0\n",
        "\n",
        "    return 1.0 * len(pred_set & actual_set) / len(pred_set)\n",
        "\n",
        "\n",
        "def recall_at_k(actual, pred):\n",
        "    actual_set = set(actual)\n",
        "    pred_set = set([x.book_id for x in pred])\n",
        "\n",
        "    if not actual_set:\n",
        "        return 0.0\n",
        "\n",
        "    return len(pred_set & actual_set) / len(actual_set)\n",
        "\n",
        "\n",
        "precision_udf = F.udf(precision_at_k, DoubleType())\n",
        "recall_udf = F.udf(recall_at_k, DoubleType())"
      ]
    },
    {
      "cell_type": "code",
      "execution_count": null,
      "metadata": {
        "id": "Y8sDRcouFJz7"
      },
      "outputs": [],
      "source": [
        "metrics_df = actual_and_preds.withColumn(\"precision_at_5\", precision_udf(\"actual_books\", \"recommendations\")) \\\n",
        "                             .withColumn(\"recall_at_5\", recall_udf(\"actual_books\", \"recommendations\"))\n",
        "\n",
        "precision_5 = metrics_df.agg(F.avg(\"precision_at_5\")).first()[0]\n",
        "recall_5 = metrics_df.agg(F.avg(\"recall_at_5\")).first()[0]\n",
        "\n",
        "print(f\"Average precision at 5: {precision_5:.4f}\")\n",
        "print(f\"Average recall at 5: {recall_5:.4f}\")"
      ]
    },
    {
      "cell_type": "markdown",
      "metadata": {
        "id": "Y7HJgPz7FL37"
      },
      "source": [
        "While the explicit ratings model has good RMSE, the precision@K and recall@K are abysmal. This is expected as the model tends to recommend popular books instead of personalizing the recommendations. Now let's work on an implicit model by using the `ratings` and `to_read` data."
      ]
    },
    {
      "cell_type": "code",
      "execution_count": null,
      "metadata": {
        "colab": {
          "base_uri": "https://localhost:8080/"
        },
        "id": "9wFOmKvSkj6B",
        "outputId": "879e66d1-4660-4b15-bfb3-3b1415822957"
      },
      "outputs": [
        {
          "name": "stdout",
          "output_type": "stream",
          "text": [
            "+-------+-------+---+\n",
            "|user_id|book_id|  w|\n",
            "+-------+-------+---+\n",
            "|  33697|      4|6.0|\n",
            "|  40490|      6|2.0|\n",
            "|  23303|     15|6.0|\n",
            "|  28767|     16|6.0|\n",
            "|  51460|     16|6.0|\n",
            "+-------+-------+---+\n",
            "only showing top 5 rows\n",
            "\n"
          ]
        }
      ],
      "source": [
        "weights = {\n",
        "    \"TO_READ\": 2,\n",
        "    \"RATING_HIGH\": 6,\n",
        "    \"RATING_MID\": 2,\n",
        "    \"RATING_LOW\": 0.2\n",
        "}\n",
        "\n",
        "\n",
        "# Taking only the highest rating for a book by a user\n",
        "ratings_collapsed = ratings_df.groupBy(\"user_id\", \"book_id\").agg(F.max(\"rating\").alias(\"rating\"))\n",
        "\n",
        "# Applying weights to ratings\n",
        "ratings_weighted = ratings_collapsed.withColumn(\n",
        "                                        \"w\",\n",
        "                                        F.when(F.col(\"rating\") >= 4, F.lit(weights[\"RATING_HIGH\"]))\n",
        "                                         .when(F.col(\"rating\") == 3, F.lit(weights[\"RATING_MID\"]))\n",
        "                                         .otherwise(F.lit(weights[\"RATING_LOW\"]))\n",
        "                                        ) \\\n",
        "                                        .select(\"user_id\", \"book_id\", \"w\")\n",
        "\n",
        "# To read weights\n",
        "to_read_weighted = to_read_df.withColumn(\"w\", F.lit(weights[\"TO_READ\"]))\n",
        "\n",
        "events = ratings_weighted.unionByName(to_read_weighted)\n",
        "events.show(5)"
      ]
    },
    {
      "cell_type": "code",
      "execution_count": null,
      "metadata": {
        "id": "JnnHB2ySnV-e"
      },
      "outputs": [],
      "source": [
        "# Aggregating weighted preferences and clipping it to 0-5\n",
        "\n",
        "preferences = events.groupBy(\"user_id\", \"book_id\") \\\n",
        "                   .agg(F.sum(\"w\").alias(\"preference\")) \\\n",
        "                   .withColumn(\"preference\", F.least(F.col(\"preference\"), F.lit(10)))"
      ]
    },
    {
      "cell_type": "code",
      "execution_count": null,
      "metadata": {
        "id": "BGcokVdPqLTI"
      },
      "outputs": [],
      "source": [
        "pref_train, pref_test = preferences.randomSplit([0.8, 0.2])\n",
        "\n",
        "als_imp = ALS(userCol=\"user_id\", itemCol=\"book_id\", ratingCol=\"preference\",\n",
        "              rank=48, regParam=0.2, alpha=80, implicitPrefs=True,\n",
        "              nonnegative=True, coldStartStrategy=\"drop\", maxIter=12)\n",
        "\n",
        "implicit_model = als_imp.fit(pref_train)"
      ]
    },
    {
      "cell_type": "code",
      "execution_count": null,
      "metadata": {
        "colab": {
          "base_uri": "https://localhost:8080/"
        },
        "id": "J-SV3046sGbi",
        "outputId": "d7761972-29d8-4214-b011-3d2a9610c173"
      },
      "outputs": [
        {
          "name": "stdout",
          "output_type": "stream",
          "text": [
            "+-------+--------------------+\n",
            "|user_id|     recommendations|\n",
            "+-------+--------------------+\n",
            "|      1|[{359, 0.7740007}...|\n",
            "|      3|[{1035, 0.8792589...|\n",
            "|      5|[{5828, 0.9602315...|\n",
            "|      6|[{472, 1.0375816}...|\n",
            "|      9|[{2664, 1.0572494...|\n",
            "+-------+--------------------+\n",
            "only showing top 5 rows\n",
            "\n"
          ]
        }
      ],
      "source": [
        "test_users = pref_test.select(\"user_id\").distinct()\n",
        "predictions = implicit_model.recommendForUserSubset(test_users, numItems=5)\n",
        "predictions.show(5)"
      ]
    },
    {
      "cell_type": "code",
      "execution_count": null,
      "metadata": {
        "id": "ydF5Y4Dcd-wo"
      },
      "outputs": [],
      "source": [
        "# Getting all the book_ids from recommendations\n",
        "\n",
        "predictions = predictions.withColumn(\n",
        "    \"predicted_book_ids\", F.expr(\"transform(recommendations, x -> x.book_id)\")\n",
        ")"
      ]
    },
    {
      "cell_type": "code",
      "execution_count": null,
      "metadata": {
        "id": "9h9aE8EGnQxe"
      },
      "outputs": [],
      "source": [
        "# Grouping to read books per user\n",
        "\n",
        "per_user_books = pref_test.groupBy(\"user_id\") \\\n",
        "                          .agg(F.collect_set(\"book_id\").alias(\"actual_book_ids\"))"
      ]
    },
    {
      "cell_type": "code",
      "execution_count": null,
      "metadata": {
        "colab": {
          "base_uri": "https://localhost:8080/"
        },
        "id": "q_FEnNlXn1Qr",
        "outputId": "0aaf9895-dfed-4956-ca58-922a922eeecf"
      },
      "outputs": [
        {
          "name": "stdout",
          "output_type": "stream",
          "text": [
            "+-------+--------------------+--------------------+\n",
            "|user_id|     actual_book_ids|  predicted_book_ids|\n",
            "+-------+--------------------+--------------------+\n",
            "|      1|[6285, 3334, 533,...|[359, 5628, 9173,...|\n",
            "|      3|              [5448]| [1035, 1, 5, 4, 14]|\n",
            "|      5|              [3074]|[5828, 6965, 5762...|\n",
            "|      6|              [5820]|[472, 2036, 385, ...|\n",
            "|      9|[7285, 230, 2516,...|[2664, 822, 638, ...|\n",
            "+-------+--------------------+--------------------+\n",
            "only showing top 5 rows\n",
            "\n"
          ]
        }
      ],
      "source": [
        "# Joining the two data frames\n",
        "\n",
        "joined = per_user_books.join(predictions, on=\"user_id\", how=\"inner\") \\\n",
        "                       .select(\"user_id\", \"actual_book_ids\", \"predicted_book_ids\")\n",
        "joined.show(5)"
      ]
    },
    {
      "cell_type": "code",
      "execution_count": null,
      "metadata": {
        "colab": {
          "base_uri": "https://localhost:8080/"
        },
        "id": "EgKUlHXIojdJ",
        "outputId": "881a9d0f-1fc6-45e7-b554-2b06e3c8d192"
      },
      "outputs": [
        {
          "name": "stdout",
          "output_type": "stream",
          "text": [
            "Average precision at 5: 0.0150\n",
            "Average recall at 5: 0.0117\n"
          ]
        }
      ],
      "source": [
        "# Evaluating precision@K and recall@K\n",
        "\n",
        "joined = joined.where(F.size(\"actual_book_ids\") > 0)\n",
        "joined = joined.withColumn(\"actual_book_ids\", F.expr(\"transform(actual_book_ids, x -> double(x))\")) \\\n",
        "               .withColumn(\"predicted_book_ids\", F.expr(\"transform(predicted_book_ids, x -> double(x))\"))\n",
        "\n",
        "evaluator = RankingEvaluator(metricName=\"precisionAtK\", k=5,\n",
        "                             labelCol=\"actual_book_ids\",\n",
        "                             predictionCol=\"predicted_book_ids\")\n",
        "\n",
        "print(f\"Average precision at 5: {evaluator.evaluate(joined):.4f}\")\n",
        "\n",
        "evaluator.setMetricName(\"recallAtK\").setK(5)\n",
        "print(f\"Average recall at 5: {evaluator.evaluate(joined):.4f}\")"
      ]
    },
    {
      "cell_type": "code",
      "execution_count": null,
      "metadata": {
        "colab": {
          "base_uri": "https://localhost:8080/"
        },
        "id": "7hMsX78yv8GT",
        "outputId": "cca00fa2-5d76-4a46-b807-19c1a461edc4"
      },
      "outputs": [
        {
          "name": "stdout",
          "output_type": "stream",
          "text": [
            "Number of books in model.itemFactors: 10000\n",
            "Number of books in pref_train: 10000\n",
            "Number of books in both: 10000\n"
          ]
        }
      ],
      "source": [
        "# Checking matching between itemFactors.id and training dataset\n",
        "\n",
        "unique_if_ids = implicit_model.itemFactors.select(\"id\").distinct()\n",
        "unique_pref_ids = pref_train.select(\"book_id\").distinct()\n",
        "\n",
        "print(f\"Number of books in model.itemFactors: {unique_if_ids.count()}\")\n",
        "print(f\"Number of books in pref_train: {unique_pref_ids.count()}\")\n",
        "\n",
        "all = unique_if_ids.join(unique_pref_ids, unique_if_ids.id == unique_pref_ids.book_id, how=\"inner\")\n",
        "print(f\"Number of books in both: {all.count()}\")"
      ]
    },
    {
      "cell_type": "code",
      "execution_count": null,
      "metadata": {
        "id": "bcP0UqYBsClV"
      },
      "outputs": [],
      "source": [
        "# Saving the models\n",
        "\n",
        "implicit_model.write().overwrite().save(\"models/als_implicit\")\n",
        "implicit_model.itemFactors.write.mode(\"overwrite\").parquet(\"models/item_factors\")\n",
        "books_df.select(\"book_id\",\"Title\",\"Author\").write.mode(\"overwrite\").parquet(\"models/book_metadata\")"
      ]
    },
    {
      "cell_type": "code",
      "execution_count": null,
      "metadata": {
        "colab": {
          "base_uri": "https://localhost:8080/",
          "height": 17
        },
        "id": "3iZxf3uXwca2",
        "outputId": "5f360f51-d9f1-4498-8dfa-e2269fa05fad"
      },
      "outputs": [
        {
          "data": {
            "application/javascript": "\n    async function download(id, filename, size) {\n      if (!google.colab.kernel.accessAllowed) {\n        return;\n      }\n      const div = document.createElement('div');\n      const label = document.createElement('label');\n      label.textContent = `Downloading \"${filename}\": `;\n      div.appendChild(label);\n      const progress = document.createElement('progress');\n      progress.max = size;\n      div.appendChild(progress);\n      document.body.appendChild(div);\n\n      const buffers = [];\n      let downloaded = 0;\n\n      const channel = await google.colab.kernel.comms.open(id);\n      // Send a message to notify the kernel that we're ready.\n      channel.send({})\n\n      for await (const message of channel.messages) {\n        // Send a message to notify the kernel that we're ready.\n        channel.send({})\n        if (message.buffers) {\n          for (const buffer of message.buffers) {\n            buffers.push(buffer);\n            downloaded += buffer.byteLength;\n            progress.value = downloaded;\n          }\n        }\n      }\n      const blob = new Blob(buffers, {type: 'application/binary'});\n      const a = document.createElement('a');\n      a.href = window.URL.createObjectURL(blob);\n      a.download = filename;\n      div.appendChild(a);\n      a.click();\n      div.remove();\n    }\n  ",
            "text/plain": [
              "<IPython.core.display.Javascript object>"
            ]
          },
          "metadata": {},
          "output_type": "display_data"
        },
        {
          "data": {
            "application/javascript": "download(\"download_fa67442c-3f96-448c-ba8e-5382bc248c5a\", \"models.zip\", 7133041)",
            "text/plain": [
              "<IPython.core.display.Javascript object>"
            ]
          },
          "metadata": {},
          "output_type": "display_data"
        }
      ],
      "source": [
        "# Downloading the models\n",
        "\n",
        "shutil.make_archive(\"models\", \"zip\", \"models\")\n",
        "files.download(\"models.zip\")"
      ]
    },
    {
      "cell_type": "markdown",
      "metadata": {
        "id": "EL6QfR2Mw5m6"
      },
      "source": [
        "Now that we have built and saved our model, its time to build functions to recommend books to users. My use case focuses on getting a book title as input from the user and then recommending 5 books to them, based on the input book. For this I will use the `ALS.itemFactors` and `cosine similarity`. Let's get started."
      ]
    },
    {
      "cell_type": "code",
      "execution_count": null,
      "metadata": {
        "id": "QoyTGC9MKkMN"
      },
      "outputs": [],
      "source": [
        "# Extracting our model checkpoints\n",
        "\n",
        "extract_to = \"models\"\n",
        "zip_path = \"models.zip\"\n",
        "\n",
        "os.makedirs(extract_to, exist_ok=True)\n",
        "\n",
        "with zipfile.ZipFile(zip_path, \"r\") as f:\n",
        "    f.extractall(extract_to)"
      ]
    },
    {
      "cell_type": "code",
      "execution_count": null,
      "metadata": {
        "id": "ddJIVGKjL5cr"
      },
      "outputs": [],
      "source": [
        "# Loading the models\n",
        "\n",
        "model = ALSModel.load(\"models/als_implicit\")\n",
        "item_factors = spark.read.parquet(\"models/item_factors\")\n",
        "books_df = spark.read.parquet(\"models/book_metadata\")"
      ]
    },
    {
      "cell_type": "code",
      "execution_count": null,
      "metadata": {
        "colab": {
          "base_uri": "https://localhost:8080/"
        },
        "id": "KL9IiSQ8Meds",
        "outputId": "4beca3e8-61ec-46a1-f1fc-90e030673bd8"
      },
      "outputs": [
        {
          "name": "stdout",
          "output_type": "stream",
          "text": [
            "+---+--------------------+\n",
            "| id|            features|\n",
            "+---+--------------------+\n",
            "|  7|[0.104591504, 0.0...|\n",
            "| 17|[0.0024172193, 0....|\n",
            "| 27|[0.17495234, 0.0,...|\n",
            "| 37|[0.0, 0.0, 0.0, 0...|\n",
            "| 47|[0.27273846, 0.11...|\n",
            "+---+--------------------+\n",
            "only showing top 5 rows\n",
            "\n",
            "+-------+--------------------+--------------------+\n",
            "|book_id|               Title|              Author|\n",
            "+-------+--------------------+--------------------+\n",
            "|      1|The Hunger Games ...|     Suzanne Collins|\n",
            "|      2|Harry Potter and ...|J.K. Rowling, Mar...|\n",
            "|      3|Twilight (Twiligh...|     Stephenie Meyer|\n",
            "|      4|To Kill a Mocking...|          Harper Lee|\n",
            "|      5|    The Great Gatsby| F. Scott Fitzgerald|\n",
            "+-------+--------------------+--------------------+\n",
            "only showing top 5 rows\n",
            "\n"
          ]
        }
      ],
      "source": [
        "item_factors.show(5)\n",
        "books_df.show(5)"
      ]
    },
    {
      "cell_type": "code",
      "execution_count": null,
      "metadata": {
        "id": "rl1Tt5FMMlta"
      },
      "outputs": [],
      "source": [
        "# Creating magnitude column for cosine similarity\n",
        "\n",
        "def norm(values):\n",
        "    return sum(x * x for x in values) ** 0.5\n",
        "\n",
        "norm_udf = F.udf(norm, T.DoubleType())\n",
        "item_factors = item_factors.withColumn(\"magnitude\", norm_udf(\"features\")).cache()"
      ]
    },
    {
      "cell_type": "code",
      "execution_count": null,
      "metadata": {
        "id": "1s1YoBAkQjY9"
      },
      "outputs": [],
      "source": [
        "def recommend_similar_books(book_title: str, k: int = 5):\n",
        "    \"\"\"Recommends similar books based on a given book title using cosine similarity.\n",
        "\n",
        "    Args:\n",
        "        book_title: The title of the book to find similar recommendations for.\n",
        "        k: The number of recommendations to return.\n",
        "\n",
        "    Returns:\n",
        "        A list of rows containing book information (book_id, Title, Author, similarity)\n",
        "        for the top k recommended books. Returns an empty list if the book is\n",
        "        not found or the book vector is not found.\n",
        "    \"\"\"\n",
        "    # Check if book exists in the dataset\n",
        "    book_id = books_df.filter(books_df[\"title\"] == book_title) \\\n",
        "                      .select(\"book_id\") \\\n",
        "                      .first()\n",
        "\n",
        "    if not book_id:\n",
        "        print(\"book name not found\")\n",
        "        return []\n",
        "\n",
        "    # Get the associated item vector\n",
        "    book_vector = item_factors.filter(item_factors[\"id\"] == book_id[0]) \\\n",
        "                              .select(\"features\", \"magnitude\") \\\n",
        "                              .first()\n",
        "\n",
        "    if not book_vector:\n",
        "        print(\"book vector not found\")\n",
        "        return []\n",
        "\n",
        "    def cosine_similarity(vec, mag):\n",
        "        numerator = sum(x * y for x, y in zip(vec, book_vector.features))\n",
        "        denominator = mag * book_vector.magnitude or 1e-9\n",
        "        return numerator * 1.0 / denominator\n",
        "\n",
        "    udf_cosine_sim = F.udf(cosine_similarity, T.DoubleType())\n",
        "    similarities = item_factors.withColumn(\"similarity\", udf_cosine_sim(\"features\", \"magnitude\")) \\\n",
        "                               .filter(F.col(\"id\") != book_id[0]) \\\n",
        "                               .orderBy(F.col(\"similarity\").desc()) \\\n",
        "                               .limit(k + 10)\n",
        "\n",
        "    similar_books = similarities.join(books_df, similarities.id == books_df.book_id, how=\"inner\") \\\n",
        "                                .select(\"book_id\", \"Title\", \"Author\", \"similarity\") \\\n",
        "                                .limit(k) \\\n",
        "                                .collect()\n",
        "    return similar_books"
      ]
    },
    {
      "cell_type": "code",
      "execution_count": null,
      "metadata": {
        "id": "si7vrRFYSD3O"
      },
      "outputs": [],
      "source": [
        "recs = recommend_similar_books(\"A Walk to Remember\")"
      ]
    },
    {
      "cell_type": "code",
      "execution_count": null,
      "metadata": {
        "colab": {
          "base_uri": "https://localhost:8080/"
        },
        "id": "UqC71TXnSyCt",
        "outputId": "09fc734e-b45d-486d-d261-5478d4985d35"
      },
      "outputs": [
        {
          "data": {
            "text/plain": [
              "['Twilight (Twilight, #1)',\n",
              " 'Romeo and Juliet',\n",
              " 'The Lion, the Witch, and the Wardrobe (Chronicles of Narnia, #1)',\n",
              " 'The Notebook (The Notebook, #1)',\n",
              " 'New Moon (Twilight, #2)']"
            ]
          },
          "execution_count": 20,
          "metadata": {},
          "output_type": "execute_result"
        }
      ],
      "source": [
        "[r.Title for r in recs]"
      ]
    },
    {
      "cell_type": "code",
      "execution_count": null,
      "metadata": {
        "colab": {
          "base_uri": "https://localhost:8080/"
        },
        "id": "3KJucbcwbAzM",
        "outputId": "0a494008-f407-48e9-bb3c-57e8d814ef06"
      },
      "outputs": [
        {
          "name": "stdout",
          "output_type": "stream",
          "text": [
            "Average sparsity over all items: 0.8249479166666664\n"
          ]
        }
      ],
      "source": [
        "# Checking sparsity of the the book vectors\n",
        "\n",
        "EPS = 1e-8\n",
        "\n",
        "item_sparsity = (item_factors\n",
        "  .withColumn(\"dim\", F.size(\"features\"))\n",
        "  .withColumn(\n",
        "      \"nnz\",\n",
        "      F.expr(f\"aggregate(transform(features, x -> IF(ABS(x) < {EPS}, 0, 1)), 0, (acc, v) -> acc + v)\")\n",
        "  )\n",
        "  .withColumn(\"sparsity\", (F.col(\"dim\") - F.col(\"nnz\")) / F.col(\"dim\"))\n",
        ")\n",
        "\n",
        "avg_item_sparsity = item_sparsity.select(F.avg(\"sparsity\").alias(\"avg_sparsity\")).first()[0]\n",
        "print(\"Average sparsity over all items:\", avg_item_sparsity)"
      ]
    },
    {
      "cell_type": "markdown",
      "metadata": {
        "id": "MSN0iX0f2mOZ"
      },
      "source": [
        "Now that our recommender is trained and can make recommendations given a title, I want to try and convert the metadata to pandas for serving. While spark is powerful at processing huge amounts of data fast, it also has a lot of overhead of needing JDK and dependencies. Converting the metadata to pandas will let me serve it using a light-weight `FastAPI` app."
      ]
    },
    {
      "cell_type": "code",
      "execution_count": null,
      "metadata": {
        "colab": {
          "base_uri": "https://localhost:8080/",
          "height": 206
        },
        "id": "G633hEv5hW_S",
        "outputId": "9ee254d2-7b21-4bbe-811a-e2eb7fc365d5"
      },
      "outputs": [
        {
          "data": {
            "application/vnd.google.colaboratory.intrinsic+json": {
              "summary": "{\n  \"name\": \"if_pd\",\n  \"rows\": 10000,\n  \"fields\": [\n    {\n      \"column\": \"id\",\n      \"properties\": {\n        \"dtype\": \"int32\",\n        \"num_unique_values\": 10000,\n        \"samples\": [\n          2526,\n          6844,\n          7312\n        ],\n        \"semantic_type\": \"\",\n        \"description\": \"\"\n      }\n    },\n    {\n      \"column\": \"features\",\n      \"properties\": {\n        \"dtype\": \"object\",\n        \"semantic_type\": \"\",\n        \"description\": \"\"\n      }\n    },\n    {\n      \"column\": \"magnitude\",\n      \"properties\": {\n        \"dtype\": \"number\",\n        \"std\": 0.19412674768369764,\n        \"min\": 0.47557242329431876,\n        \"max\": 2.3629128323395703,\n        \"num_unique_values\": 10000,\n        \"samples\": [\n          1.6525921989198638,\n          1.4998894053314502,\n          1.5098021184819883\n        ],\n        \"semantic_type\": \"\",\n        \"description\": \"\"\n      }\n    }\n  ]\n}",
              "type": "dataframe",
              "variable_name": "if_pd"
            },
            "text/html": [
              "\n",
              "  <div id=\"df-857384ca-dee8-4478-8263-9c2ca17e191d\" class=\"colab-df-container\">\n",
              "    <div>\n",
              "<style scoped>\n",
              "    .dataframe tbody tr th:only-of-type {\n",
              "        vertical-align: middle;\n",
              "    }\n",
              "\n",
              "    .dataframe tbody tr th {\n",
              "        vertical-align: top;\n",
              "    }\n",
              "\n",
              "    .dataframe thead th {\n",
              "        text-align: right;\n",
              "    }\n",
              "</style>\n",
              "<table border=\"1\" class=\"dataframe\">\n",
              "  <thead>\n",
              "    <tr style=\"text-align: right;\">\n",
              "      <th></th>\n",
              "      <th>id</th>\n",
              "      <th>features</th>\n",
              "      <th>magnitude</th>\n",
              "    </tr>\n",
              "  </thead>\n",
              "  <tbody>\n",
              "    <tr>\n",
              "      <th>0</th>\n",
              "      <td>7</td>\n",
              "      <td>[0.104591503739357, 0.0, 0.0, 0.0, 0.0, 0.0, 0...</td>\n",
              "      <td>1.689700</td>\n",
              "    </tr>\n",
              "    <tr>\n",
              "      <th>1</th>\n",
              "      <td>17</td>\n",
              "      <td>[0.0024172193370759487, 0.0, 0.0, 0.0, 0.0, 0....</td>\n",
              "      <td>1.796059</td>\n",
              "    </tr>\n",
              "    <tr>\n",
              "      <th>2</th>\n",
              "      <td>27</td>\n",
              "      <td>[0.17495234310626984, 0.0, 0.0, 0.0, 0.0, 0.0,...</td>\n",
              "      <td>1.617949</td>\n",
              "    </tr>\n",
              "    <tr>\n",
              "      <th>3</th>\n",
              "      <td>37</td>\n",
              "      <td>[0.0, 0.0, 0.0, 0.0, 0.0, 0.0, 0.0, 0.22473175...</td>\n",
              "      <td>1.617251</td>\n",
              "    </tr>\n",
              "    <tr>\n",
              "      <th>4</th>\n",
              "      <td>47</td>\n",
              "      <td>[0.2727384567260742, 0.11225360631942749, 0.0,...</td>\n",
              "      <td>1.669970</td>\n",
              "    </tr>\n",
              "  </tbody>\n",
              "</table>\n",
              "</div>\n",
              "    <div class=\"colab-df-buttons\">\n",
              "\n",
              "  <div class=\"colab-df-container\">\n",
              "    <button class=\"colab-df-convert\" onclick=\"convertToInteractive('df-857384ca-dee8-4478-8263-9c2ca17e191d')\"\n",
              "            title=\"Convert this dataframe to an interactive table.\"\n",
              "            style=\"display:none;\">\n",
              "\n",
              "  <svg xmlns=\"http://www.w3.org/2000/svg\" height=\"24px\" viewBox=\"0 -960 960 960\">\n",
              "    <path d=\"M120-120v-720h720v720H120Zm60-500h600v-160H180v160Zm220 220h160v-160H400v160Zm0 220h160v-160H400v160ZM180-400h160v-160H180v160Zm440 0h160v-160H620v160ZM180-180h160v-160H180v160Zm440 0h160v-160H620v160Z\"/>\n",
              "  </svg>\n",
              "    </button>\n",
              "\n",
              "  <style>\n",
              "    .colab-df-container {\n",
              "      display:flex;\n",
              "      gap: 12px;\n",
              "    }\n",
              "\n",
              "    .colab-df-convert {\n",
              "      background-color: #E8F0FE;\n",
              "      border: none;\n",
              "      border-radius: 50%;\n",
              "      cursor: pointer;\n",
              "      display: none;\n",
              "      fill: #1967D2;\n",
              "      height: 32px;\n",
              "      padding: 0 0 0 0;\n",
              "      width: 32px;\n",
              "    }\n",
              "\n",
              "    .colab-df-convert:hover {\n",
              "      background-color: #E2EBFA;\n",
              "      box-shadow: 0px 1px 2px rgba(60, 64, 67, 0.3), 0px 1px 3px 1px rgba(60, 64, 67, 0.15);\n",
              "      fill: #174EA6;\n",
              "    }\n",
              "\n",
              "    .colab-df-buttons div {\n",
              "      margin-bottom: 4px;\n",
              "    }\n",
              "\n",
              "    [theme=dark] .colab-df-convert {\n",
              "      background-color: #3B4455;\n",
              "      fill: #D2E3FC;\n",
              "    }\n",
              "\n",
              "    [theme=dark] .colab-df-convert:hover {\n",
              "      background-color: #434B5C;\n",
              "      box-shadow: 0px 1px 3px 1px rgba(0, 0, 0, 0.15);\n",
              "      filter: drop-shadow(0px 1px 2px rgba(0, 0, 0, 0.3));\n",
              "      fill: #FFFFFF;\n",
              "    }\n",
              "  </style>\n",
              "\n",
              "    <script>\n",
              "      const buttonEl =\n",
              "        document.querySelector('#df-857384ca-dee8-4478-8263-9c2ca17e191d button.colab-df-convert');\n",
              "      buttonEl.style.display =\n",
              "        google.colab.kernel.accessAllowed ? 'block' : 'none';\n",
              "\n",
              "      async function convertToInteractive(key) {\n",
              "        const element = document.querySelector('#df-857384ca-dee8-4478-8263-9c2ca17e191d');\n",
              "        const dataTable =\n",
              "          await google.colab.kernel.invokeFunction('convertToInteractive',\n",
              "                                                    [key], {});\n",
              "        if (!dataTable) return;\n",
              "\n",
              "        const docLinkHtml = 'Like what you see? Visit the ' +\n",
              "          '<a target=\"_blank\" href=https://colab.research.google.com/notebooks/data_table.ipynb>data table notebook</a>'\n",
              "          + ' to learn more about interactive tables.';\n",
              "        element.innerHTML = '';\n",
              "        dataTable['output_type'] = 'display_data';\n",
              "        await google.colab.output.renderOutput(dataTable, element);\n",
              "        const docLink = document.createElement('div');\n",
              "        docLink.innerHTML = docLinkHtml;\n",
              "        element.appendChild(docLink);\n",
              "      }\n",
              "    </script>\n",
              "  </div>\n",
              "\n",
              "\n",
              "    <div id=\"df-27758e9d-97ec-4ae3-8168-193f59209329\">\n",
              "      <button class=\"colab-df-quickchart\" onclick=\"quickchart('df-27758e9d-97ec-4ae3-8168-193f59209329')\"\n",
              "                title=\"Suggest charts\"\n",
              "                style=\"display:none;\">\n",
              "\n",
              "<svg xmlns=\"http://www.w3.org/2000/svg\" height=\"24px\"viewBox=\"0 0 24 24\"\n",
              "     width=\"24px\">\n",
              "    <g>\n",
              "        <path d=\"M19 3H5c-1.1 0-2 .9-2 2v14c0 1.1.9 2 2 2h14c1.1 0 2-.9 2-2V5c0-1.1-.9-2-2-2zM9 17H7v-7h2v7zm4 0h-2V7h2v10zm4 0h-2v-4h2v4z\"/>\n",
              "    </g>\n",
              "</svg>\n",
              "      </button>\n",
              "\n",
              "<style>\n",
              "  .colab-df-quickchart {\n",
              "      --bg-color: #E8F0FE;\n",
              "      --fill-color: #1967D2;\n",
              "      --hover-bg-color: #E2EBFA;\n",
              "      --hover-fill-color: #174EA6;\n",
              "      --disabled-fill-color: #AAA;\n",
              "      --disabled-bg-color: #DDD;\n",
              "  }\n",
              "\n",
              "  [theme=dark] .colab-df-quickchart {\n",
              "      --bg-color: #3B4455;\n",
              "      --fill-color: #D2E3FC;\n",
              "      --hover-bg-color: #434B5C;\n",
              "      --hover-fill-color: #FFFFFF;\n",
              "      --disabled-bg-color: #3B4455;\n",
              "      --disabled-fill-color: #666;\n",
              "  }\n",
              "\n",
              "  .colab-df-quickchart {\n",
              "    background-color: var(--bg-color);\n",
              "    border: none;\n",
              "    border-radius: 50%;\n",
              "    cursor: pointer;\n",
              "    display: none;\n",
              "    fill: var(--fill-color);\n",
              "    height: 32px;\n",
              "    padding: 0;\n",
              "    width: 32px;\n",
              "  }\n",
              "\n",
              "  .colab-df-quickchart:hover {\n",
              "    background-color: var(--hover-bg-color);\n",
              "    box-shadow: 0 1px 2px rgba(60, 64, 67, 0.3), 0 1px 3px 1px rgba(60, 64, 67, 0.15);\n",
              "    fill: var(--button-hover-fill-color);\n",
              "  }\n",
              "\n",
              "  .colab-df-quickchart-complete:disabled,\n",
              "  .colab-df-quickchart-complete:disabled:hover {\n",
              "    background-color: var(--disabled-bg-color);\n",
              "    fill: var(--disabled-fill-color);\n",
              "    box-shadow: none;\n",
              "  }\n",
              "\n",
              "  .colab-df-spinner {\n",
              "    border: 2px solid var(--fill-color);\n",
              "    border-color: transparent;\n",
              "    border-bottom-color: var(--fill-color);\n",
              "    animation:\n",
              "      spin 1s steps(1) infinite;\n",
              "  }\n",
              "\n",
              "  @keyframes spin {\n",
              "    0% {\n",
              "      border-color: transparent;\n",
              "      border-bottom-color: var(--fill-color);\n",
              "      border-left-color: var(--fill-color);\n",
              "    }\n",
              "    20% {\n",
              "      border-color: transparent;\n",
              "      border-left-color: var(--fill-color);\n",
              "      border-top-color: var(--fill-color);\n",
              "    }\n",
              "    30% {\n",
              "      border-color: transparent;\n",
              "      border-left-color: var(--fill-color);\n",
              "      border-top-color: var(--fill-color);\n",
              "      border-right-color: var(--fill-color);\n",
              "    }\n",
              "    40% {\n",
              "      border-color: transparent;\n",
              "      border-right-color: var(--fill-color);\n",
              "      border-top-color: var(--fill-color);\n",
              "    }\n",
              "    60% {\n",
              "      border-color: transparent;\n",
              "      border-right-color: var(--fill-color);\n",
              "    }\n",
              "    80% {\n",
              "      border-color: transparent;\n",
              "      border-right-color: var(--fill-color);\n",
              "      border-bottom-color: var(--fill-color);\n",
              "    }\n",
              "    90% {\n",
              "      border-color: transparent;\n",
              "      border-bottom-color: var(--fill-color);\n",
              "    }\n",
              "  }\n",
              "</style>\n",
              "\n",
              "      <script>\n",
              "        async function quickchart(key) {\n",
              "          const quickchartButtonEl =\n",
              "            document.querySelector('#' + key + ' button');\n",
              "          quickchartButtonEl.disabled = true;  // To prevent multiple clicks.\n",
              "          quickchartButtonEl.classList.add('colab-df-spinner');\n",
              "          try {\n",
              "            const charts = await google.colab.kernel.invokeFunction(\n",
              "                'suggestCharts', [key], {});\n",
              "          } catch (error) {\n",
              "            console.error('Error during call to suggestCharts:', error);\n",
              "          }\n",
              "          quickchartButtonEl.classList.remove('colab-df-spinner');\n",
              "          quickchartButtonEl.classList.add('colab-df-quickchart-complete');\n",
              "        }\n",
              "        (() => {\n",
              "          let quickchartButtonEl =\n",
              "            document.querySelector('#df-27758e9d-97ec-4ae3-8168-193f59209329 button');\n",
              "          quickchartButtonEl.style.display =\n",
              "            google.colab.kernel.accessAllowed ? 'block' : 'none';\n",
              "        })();\n",
              "      </script>\n",
              "    </div>\n",
              "\n",
              "    </div>\n",
              "  </div>\n"
            ],
            "text/plain": [
              "   id                                           features  magnitude\n",
              "0   7  [0.104591503739357, 0.0, 0.0, 0.0, 0.0, 0.0, 0...   1.689700\n",
              "1  17  [0.0024172193370759487, 0.0, 0.0, 0.0, 0.0, 0....   1.796059\n",
              "2  27  [0.17495234310626984, 0.0, 0.0, 0.0, 0.0, 0.0,...   1.617949\n",
              "3  37  [0.0, 0.0, 0.0, 0.0, 0.0, 0.0, 0.0, 0.22473175...   1.617251\n",
              "4  47  [0.2727384567260742, 0.11225360631942749, 0.0,...   1.669970"
            ]
          },
          "execution_count": 22,
          "metadata": {},
          "output_type": "execute_result"
        }
      ],
      "source": [
        "if_pd = item_factors.toPandas()\n",
        "if_pd.head()"
      ]
    },
    {
      "cell_type": "code",
      "execution_count": null,
      "metadata": {
        "colab": {
          "base_uri": "https://localhost:8080/",
          "height": 206
        },
        "id": "p2zwrw84tGny",
        "outputId": "eaf48a54-1b8d-490f-ae73-a06b50481c97"
      },
      "outputs": [
        {
          "data": {
            "application/vnd.google.colaboratory.intrinsic+json": {
              "summary": "{\n  \"name\": \"books_pd\",\n  \"rows\": 10000,\n  \"fields\": [\n    {\n      \"column\": \"book_id\",\n      \"properties\": {\n        \"dtype\": \"int32\",\n        \"num_unique_values\": 10000,\n        \"samples\": [\n          6253,\n          4685,\n          1732\n        ],\n        \"semantic_type\": \"\",\n        \"description\": \"\"\n      }\n    },\n    {\n      \"column\": \"Title\",\n      \"properties\": {\n        \"dtype\": \"string\",\n        \"num_unique_values\": 9964,\n        \"samples\": [\n          \"F is for Fugitive (Kinsey Millhone, #6)\",\n          \"Hard as It Gets (Hard Ink, #1)\",\n          \"Netherland\"\n        ],\n        \"semantic_type\": \"\",\n        \"description\": \"\"\n      }\n    },\n    {\n      \"column\": \"Author\",\n      \"properties\": {\n        \"dtype\": \"category\",\n        \"num_unique_values\": 4664,\n        \"samples\": [\n          \"James Patterson, Liza Marklund\",\n          \"Pat Frank\",\n          \"Margaret George\"\n        ],\n        \"semantic_type\": \"\",\n        \"description\": \"\"\n      }\n    }\n  ]\n}",
              "type": "dataframe",
              "variable_name": "books_pd"
            },
            "text/html": [
              "\n",
              "  <div id=\"df-8206d03b-a137-4090-aee0-31110131d637\" class=\"colab-df-container\">\n",
              "    <div>\n",
              "<style scoped>\n",
              "    .dataframe tbody tr th:only-of-type {\n",
              "        vertical-align: middle;\n",
              "    }\n",
              "\n",
              "    .dataframe tbody tr th {\n",
              "        vertical-align: top;\n",
              "    }\n",
              "\n",
              "    .dataframe thead th {\n",
              "        text-align: right;\n",
              "    }\n",
              "</style>\n",
              "<table border=\"1\" class=\"dataframe\">\n",
              "  <thead>\n",
              "    <tr style=\"text-align: right;\">\n",
              "      <th></th>\n",
              "      <th>book_id</th>\n",
              "      <th>Title</th>\n",
              "      <th>Author</th>\n",
              "    </tr>\n",
              "  </thead>\n",
              "  <tbody>\n",
              "    <tr>\n",
              "      <th>0</th>\n",
              "      <td>1</td>\n",
              "      <td>The Hunger Games (The Hunger Games, #1)</td>\n",
              "      <td>Suzanne Collins</td>\n",
              "    </tr>\n",
              "    <tr>\n",
              "      <th>1</th>\n",
              "      <td>2</td>\n",
              "      <td>Harry Potter and the Sorcerer's Stone (Harry P...</td>\n",
              "      <td>J.K. Rowling, Mary GrandPré</td>\n",
              "    </tr>\n",
              "    <tr>\n",
              "      <th>2</th>\n",
              "      <td>3</td>\n",
              "      <td>Twilight (Twilight, #1)</td>\n",
              "      <td>Stephenie Meyer</td>\n",
              "    </tr>\n",
              "    <tr>\n",
              "      <th>3</th>\n",
              "      <td>4</td>\n",
              "      <td>To Kill a Mockingbird</td>\n",
              "      <td>Harper Lee</td>\n",
              "    </tr>\n",
              "    <tr>\n",
              "      <th>4</th>\n",
              "      <td>5</td>\n",
              "      <td>The Great Gatsby</td>\n",
              "      <td>F. Scott Fitzgerald</td>\n",
              "    </tr>\n",
              "  </tbody>\n",
              "</table>\n",
              "</div>\n",
              "    <div class=\"colab-df-buttons\">\n",
              "\n",
              "  <div class=\"colab-df-container\">\n",
              "    <button class=\"colab-df-convert\" onclick=\"convertToInteractive('df-8206d03b-a137-4090-aee0-31110131d637')\"\n",
              "            title=\"Convert this dataframe to an interactive table.\"\n",
              "            style=\"display:none;\">\n",
              "\n",
              "  <svg xmlns=\"http://www.w3.org/2000/svg\" height=\"24px\" viewBox=\"0 -960 960 960\">\n",
              "    <path d=\"M120-120v-720h720v720H120Zm60-500h600v-160H180v160Zm220 220h160v-160H400v160Zm0 220h160v-160H400v160ZM180-400h160v-160H180v160Zm440 0h160v-160H620v160ZM180-180h160v-160H180v160Zm440 0h160v-160H620v160Z\"/>\n",
              "  </svg>\n",
              "    </button>\n",
              "\n",
              "  <style>\n",
              "    .colab-df-container {\n",
              "      display:flex;\n",
              "      gap: 12px;\n",
              "    }\n",
              "\n",
              "    .colab-df-convert {\n",
              "      background-color: #E8F0FE;\n",
              "      border: none;\n",
              "      border-radius: 50%;\n",
              "      cursor: pointer;\n",
              "      display: none;\n",
              "      fill: #1967D2;\n",
              "      height: 32px;\n",
              "      padding: 0 0 0 0;\n",
              "      width: 32px;\n",
              "    }\n",
              "\n",
              "    .colab-df-convert:hover {\n",
              "      background-color: #E2EBFA;\n",
              "      box-shadow: 0px 1px 2px rgba(60, 64, 67, 0.3), 0px 1px 3px 1px rgba(60, 64, 67, 0.15);\n",
              "      fill: #174EA6;\n",
              "    }\n",
              "\n",
              "    .colab-df-buttons div {\n",
              "      margin-bottom: 4px;\n",
              "    }\n",
              "\n",
              "    [theme=dark] .colab-df-convert {\n",
              "      background-color: #3B4455;\n",
              "      fill: #D2E3FC;\n",
              "    }\n",
              "\n",
              "    [theme=dark] .colab-df-convert:hover {\n",
              "      background-color: #434B5C;\n",
              "      box-shadow: 0px 1px 3px 1px rgba(0, 0, 0, 0.15);\n",
              "      filter: drop-shadow(0px 1px 2px rgba(0, 0, 0, 0.3));\n",
              "      fill: #FFFFFF;\n",
              "    }\n",
              "  </style>\n",
              "\n",
              "    <script>\n",
              "      const buttonEl =\n",
              "        document.querySelector('#df-8206d03b-a137-4090-aee0-31110131d637 button.colab-df-convert');\n",
              "      buttonEl.style.display =\n",
              "        google.colab.kernel.accessAllowed ? 'block' : 'none';\n",
              "\n",
              "      async function convertToInteractive(key) {\n",
              "        const element = document.querySelector('#df-8206d03b-a137-4090-aee0-31110131d637');\n",
              "        const dataTable =\n",
              "          await google.colab.kernel.invokeFunction('convertToInteractive',\n",
              "                                                    [key], {});\n",
              "        if (!dataTable) return;\n",
              "\n",
              "        const docLinkHtml = 'Like what you see? Visit the ' +\n",
              "          '<a target=\"_blank\" href=https://colab.research.google.com/notebooks/data_table.ipynb>data table notebook</a>'\n",
              "          + ' to learn more about interactive tables.';\n",
              "        element.innerHTML = '';\n",
              "        dataTable['output_type'] = 'display_data';\n",
              "        await google.colab.output.renderOutput(dataTable, element);\n",
              "        const docLink = document.createElement('div');\n",
              "        docLink.innerHTML = docLinkHtml;\n",
              "        element.appendChild(docLink);\n",
              "      }\n",
              "    </script>\n",
              "  </div>\n",
              "\n",
              "\n",
              "    <div id=\"df-79332e47-360b-404a-be95-293ba900134b\">\n",
              "      <button class=\"colab-df-quickchart\" onclick=\"quickchart('df-79332e47-360b-404a-be95-293ba900134b')\"\n",
              "                title=\"Suggest charts\"\n",
              "                style=\"display:none;\">\n",
              "\n",
              "<svg xmlns=\"http://www.w3.org/2000/svg\" height=\"24px\"viewBox=\"0 0 24 24\"\n",
              "     width=\"24px\">\n",
              "    <g>\n",
              "        <path d=\"M19 3H5c-1.1 0-2 .9-2 2v14c0 1.1.9 2 2 2h14c1.1 0 2-.9 2-2V5c0-1.1-.9-2-2-2zM9 17H7v-7h2v7zm4 0h-2V7h2v10zm4 0h-2v-4h2v4z\"/>\n",
              "    </g>\n",
              "</svg>\n",
              "      </button>\n",
              "\n",
              "<style>\n",
              "  .colab-df-quickchart {\n",
              "      --bg-color: #E8F0FE;\n",
              "      --fill-color: #1967D2;\n",
              "      --hover-bg-color: #E2EBFA;\n",
              "      --hover-fill-color: #174EA6;\n",
              "      --disabled-fill-color: #AAA;\n",
              "      --disabled-bg-color: #DDD;\n",
              "  }\n",
              "\n",
              "  [theme=dark] .colab-df-quickchart {\n",
              "      --bg-color: #3B4455;\n",
              "      --fill-color: #D2E3FC;\n",
              "      --hover-bg-color: #434B5C;\n",
              "      --hover-fill-color: #FFFFFF;\n",
              "      --disabled-bg-color: #3B4455;\n",
              "      --disabled-fill-color: #666;\n",
              "  }\n",
              "\n",
              "  .colab-df-quickchart {\n",
              "    background-color: var(--bg-color);\n",
              "    border: none;\n",
              "    border-radius: 50%;\n",
              "    cursor: pointer;\n",
              "    display: none;\n",
              "    fill: var(--fill-color);\n",
              "    height: 32px;\n",
              "    padding: 0;\n",
              "    width: 32px;\n",
              "  }\n",
              "\n",
              "  .colab-df-quickchart:hover {\n",
              "    background-color: var(--hover-bg-color);\n",
              "    box-shadow: 0 1px 2px rgba(60, 64, 67, 0.3), 0 1px 3px 1px rgba(60, 64, 67, 0.15);\n",
              "    fill: var(--button-hover-fill-color);\n",
              "  }\n",
              "\n",
              "  .colab-df-quickchart-complete:disabled,\n",
              "  .colab-df-quickchart-complete:disabled:hover {\n",
              "    background-color: var(--disabled-bg-color);\n",
              "    fill: var(--disabled-fill-color);\n",
              "    box-shadow: none;\n",
              "  }\n",
              "\n",
              "  .colab-df-spinner {\n",
              "    border: 2px solid var(--fill-color);\n",
              "    border-color: transparent;\n",
              "    border-bottom-color: var(--fill-color);\n",
              "    animation:\n",
              "      spin 1s steps(1) infinite;\n",
              "  }\n",
              "\n",
              "  @keyframes spin {\n",
              "    0% {\n",
              "      border-color: transparent;\n",
              "      border-bottom-color: var(--fill-color);\n",
              "      border-left-color: var(--fill-color);\n",
              "    }\n",
              "    20% {\n",
              "      border-color: transparent;\n",
              "      border-left-color: var(--fill-color);\n",
              "      border-top-color: var(--fill-color);\n",
              "    }\n",
              "    30% {\n",
              "      border-color: transparent;\n",
              "      border-left-color: var(--fill-color);\n",
              "      border-top-color: var(--fill-color);\n",
              "      border-right-color: var(--fill-color);\n",
              "    }\n",
              "    40% {\n",
              "      border-color: transparent;\n",
              "      border-right-color: var(--fill-color);\n",
              "      border-top-color: var(--fill-color);\n",
              "    }\n",
              "    60% {\n",
              "      border-color: transparent;\n",
              "      border-right-color: var(--fill-color);\n",
              "    }\n",
              "    80% {\n",
              "      border-color: transparent;\n",
              "      border-right-color: var(--fill-color);\n",
              "      border-bottom-color: var(--fill-color);\n",
              "    }\n",
              "    90% {\n",
              "      border-color: transparent;\n",
              "      border-bottom-color: var(--fill-color);\n",
              "    }\n",
              "  }\n",
              "</style>\n",
              "\n",
              "      <script>\n",
              "        async function quickchart(key) {\n",
              "          const quickchartButtonEl =\n",
              "            document.querySelector('#' + key + ' button');\n",
              "          quickchartButtonEl.disabled = true;  // To prevent multiple clicks.\n",
              "          quickchartButtonEl.classList.add('colab-df-spinner');\n",
              "          try {\n",
              "            const charts = await google.colab.kernel.invokeFunction(\n",
              "                'suggestCharts', [key], {});\n",
              "          } catch (error) {\n",
              "            console.error('Error during call to suggestCharts:', error);\n",
              "          }\n",
              "          quickchartButtonEl.classList.remove('colab-df-spinner');\n",
              "          quickchartButtonEl.classList.add('colab-df-quickchart-complete');\n",
              "        }\n",
              "        (() => {\n",
              "          let quickchartButtonEl =\n",
              "            document.querySelector('#df-79332e47-360b-404a-be95-293ba900134b button');\n",
              "          quickchartButtonEl.style.display =\n",
              "            google.colab.kernel.accessAllowed ? 'block' : 'none';\n",
              "        })();\n",
              "      </script>\n",
              "    </div>\n",
              "\n",
              "    </div>\n",
              "  </div>\n"
            ],
            "text/plain": [
              "   book_id                                              Title  \\\n",
              "0        1            The Hunger Games (The Hunger Games, #1)   \n",
              "1        2  Harry Potter and the Sorcerer's Stone (Harry P...   \n",
              "2        3                            Twilight (Twilight, #1)   \n",
              "3        4                              To Kill a Mockingbird   \n",
              "4        5                                   The Great Gatsby   \n",
              "\n",
              "                        Author  \n",
              "0              Suzanne Collins  \n",
              "1  J.K. Rowling, Mary GrandPré  \n",
              "2              Stephenie Meyer  \n",
              "3                   Harper Lee  \n",
              "4          F. Scott Fitzgerald  "
            ]
          },
          "execution_count": 23,
          "metadata": {},
          "output_type": "execute_result"
        }
      ],
      "source": [
        "books_pd = books_df.toPandas()\n",
        "books_pd.head()"
      ]
    },
    {
      "cell_type": "code",
      "execution_count": null,
      "metadata": {
        "id": "2op8u7_ttMyn"
      },
      "outputs": [],
      "source": [
        "# Pandas recommend method\n",
        "\n",
        "def recommend_books_pd(book_name: str, k: int = 5):\n",
        "    \"\"\"Recommends similar books based on a given book title using cosine similarity.\n",
        "\n",
        "    Args:\n",
        "        book_name: The title of the book to find similar recommendations for.\n",
        "        k: The number of recommendations to return.\n",
        "\n",
        "    Returns:\n",
        "        A pandas DataFrame containing the Title, Author, and similarity score\n",
        "        of the top k recommended books. Returns an empty list if the book is\n",
        "        not found or the book vector is not found.\n",
        "    \"\"\"\n",
        "    book_id = books_pd.loc[books_pd[\"Title\"] == book_name]\n",
        "\n",
        "    if book_id.empty:\n",
        "        print(\"book name not found\")\n",
        "        return []\n",
        "\n",
        "    book_id = book_id[\"book_id\"].values[0]\n",
        "    book_vector = if_pd.loc[if_pd[\"id\"] == book_id]\n",
        "\n",
        "    if book_vector.empty:\n",
        "        print(\"book vector not found\")\n",
        "        return []\n",
        "\n",
        "    book_vector = book_vector[\"features\"].values[0]\n",
        "\n",
        "    def cosine_similarity(vec):\n",
        "        numerator = np.dot(vec, book_vector)\n",
        "        denominator = np.linalg.norm(vec) * np.linalg.norm(book_vector) or 1e-9\n",
        "        return numerator / denominator\n",
        "\n",
        "    if_pd[\"similarity\"] = if_pd[\"features\"].apply(cosine_similarity)\n",
        "    similar_books = if_pd.sort_values(by=\"similarity\", ascending=False) \\\n",
        "                         .head(k + 10)\n",
        "\n",
        "    similar_books = similar_books[similar_books[\"id\"] != book_id]\n",
        "\n",
        "    similar_books = similar_books.merge(books_pd, left_on=\"id\", right_on=\"book_id\") \\\n",
        "                                 .sort_values(by=\"similarity\", ascending=False) \\\n",
        "                                 .head(k)\n",
        "\n",
        "    return similar_books[[\"Title\", \"Author\", \"similarity\"]]"
      ]
    },
    {
      "cell_type": "code",
      "execution_count": null,
      "metadata": {
        "id": "mexmBocmuxZ_"
      },
      "outputs": [],
      "source": [
        "if_pd.to_csv(\"item_factors.csv\", index=False)\n",
        "books_pd.to_csv(\"books.csv\", index=False)"
      ]
    },
    {
      "cell_type": "code",
      "execution_count": null,
      "metadata": {
        "id": "JIdQIn-dvn7P"
      },
      "outputs": [],
      "source": []
    }
  ],
  "metadata": {
    "colab": {
      "provenance": []
    },
    "kernelspec": {
      "display_name": "Python 3",
      "name": "python3"
    },
    "language_info": {
      "name": "python"
    }
  },
  "nbformat": 4,
  "nbformat_minor": 0
}
